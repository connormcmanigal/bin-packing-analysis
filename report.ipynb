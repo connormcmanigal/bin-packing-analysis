{
 "cells": [
  {
   "cell_type": "markdown",
   "metadata": {},
   "source": [
    "# DATA260P Project 2: Bin Packing Algorithms\n",
    "\n",
    "#### Connor McManigal and Aaron Mui"
   ]
  },
  {
   "cell_type": "code",
   "execution_count": 28,
   "metadata": {},
   "outputs": [],
   "source": [
    "import pandas as pd\n",
    "import matplotlib.pyplot as plt\n",
    "\n",
    "df = pd.read_csv(\"/Users/connormcmanigal/bin_packing/binpacking_results.csv\")"
   ]
  },
  {
   "cell_type": "code",
   "execution_count": 29,
   "metadata": {},
   "outputs": [],
   "source": [
    "nextfit = df[df[\"Algos\"].str.contains('Nextfit', case=False, na=False)].copy()\n",
    "nextfit.loc[:, \"Algos\"] = nextfit[\"Algos\"].apply(lambda x: f\"Nextfit {x.split(',')[1].strip().strip(')')}\")\n",
    "\n",
    "# Filter and rename for FirstFit\n",
    "firstfit = df[df[\"Algos\"].str.contains(r\"\\bFirstFit\\b\")].copy()\n",
    "firstfit.loc[:, \"Algos\"] = firstfit[\"Algos\"].apply(lambda x: f\"Firstfit {x.split(',')[1].strip().strip(')')}\")\n",
    "\n",
    "# Filter and rename for BestFit\n",
    "bestfit = df[df[\"Algos\"].str.contains(r\"\\bBestFit\\b\")].copy()\n",
    "bestfit.loc[:, \"Algos\"] = bestfit[\"Algos\"].apply(lambda x: f\"Bestfit {x.split(',')[1].strip().strip(')')}\")\n",
    "\n",
    "# Filter and rename for FirstFitDec\n",
    "ffd = df[df[\"Algos\"].str.contains(r\"\\bFirstFitDec\\b\")].copy()\n",
    "ffd.loc[:, \"Algos\"] = ffd[\"Algos\"].apply(lambda x: f\"FirstfitDec {x.split(',')[1].strip().strip(')')}\")\n",
    "\n",
    "# Filter and rename for BestFitDec\n",
    "bfd = df[df[\"Algos\"].str.contains(r\"\\bBestFitDec\\b\")].copy()\n",
    "bfd.loc[:, \"Algos\"] = bfd[\"Algos\"].apply(lambda x: f\"BestfitDec {x.split(',')[1].strip().strip(')')}\")\n"
   ]
  },
  {
   "cell_type": "markdown",
   "metadata": {},
   "source": [
    "## NextFit"
   ]
  },
  {
   "cell_type": "markdown",
   "metadata": {},
   "source": []
  },
  {
   "cell_type": "markdown",
   "metadata": {},
   "source": [
    "## FirstFit"
   ]
  },
  {
   "cell_type": "code",
   "execution_count": null,
   "metadata": {},
   "outputs": [],
   "source": []
  },
  {
   "cell_type": "markdown",
   "metadata": {},
   "source": [
    "## BestFit"
   ]
  },
  {
   "cell_type": "code",
   "execution_count": null,
   "metadata": {},
   "outputs": [],
   "source": []
  },
  {
   "cell_type": "markdown",
   "metadata": {},
   "source": [
    "## FirstFit Decreasing"
   ]
  },
  {
   "cell_type": "code",
   "execution_count": null,
   "metadata": {},
   "outputs": [],
   "source": []
  },
  {
   "cell_type": "markdown",
   "metadata": {},
   "source": [
    "## BestFit Decreasing"
   ]
  },
  {
   "cell_type": "code",
   "execution_count": null,
   "metadata": {},
   "outputs": [],
   "source": []
  },
  {
   "cell_type": "markdown",
   "metadata": {},
   "source": [
    "## CustomFit1"
   ]
  },
  {
   "cell_type": "code",
   "execution_count": null,
   "metadata": {},
   "outputs": [],
   "source": []
  },
  {
   "cell_type": "markdown",
   "metadata": {},
   "source": [
    "## CustomFit2"
   ]
  },
  {
   "cell_type": "code",
   "execution_count": null,
   "metadata": {},
   "outputs": [],
   "source": []
  }
 ],
 "metadata": {
  "kernelspec": {
   "display_name": "Python 3",
   "language": "python",
   "name": "python3"
  },
  "language_info": {
   "codemirror_mode": {
    "name": "ipython",
    "version": 3
   },
   "file_extension": ".py",
   "mimetype": "text/x-python",
   "name": "python",
   "nbconvert_exporter": "python",
   "pygments_lexer": "ipython3",
   "version": "3.9.6"
  }
 },
 "nbformat": 4,
 "nbformat_minor": 2
}
