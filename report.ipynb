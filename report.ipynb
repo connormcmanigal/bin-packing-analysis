{
 "cells": [
  {
   "cell_type": "markdown",
   "metadata": {},
   "source": [
    "# DATA260P Project 2: Bin Packing Algorithms\n",
    "\n",
    "#### Connor McManigal and Aaron Mui"
   ]
  },
  {
   "cell_type": "code",
   "execution_count": 28,
   "metadata": {},
   "outputs": [],
   "source": [
    "import pandas as pd\n",
    "import matplotlib.pyplot as plt\n",
    "\n",
    "df = pd.read_csv(\"/Users/connormcmanigal/bin_packing/binpacking_results.csv\")"
   ]
  },
  {
   "cell_type": "code",
   "execution_count": null,
   "metadata": {},
   "outputs": [],
   "source": [
    "def plottype(df,algo,type, inits=3):\n",
    "    for i in range(inits):\n",
    "        df_f=df[df['Algorithm'] == f'{algo}{i}']\n",
    "        plt.loglog(df_f['Data Size'], df_f[type], label=i)\n",
    "    plt.legend()\n",
    "    plt.title(f'{algo} {type} with {3} runs')\n",
    "    plt.xlabel('Log Data Size')\n",
    "    plt.ylabel(f'Log {type}')\n",
    "    plt.show()"
   ]
  },
  {
   "cell_type": "code",
   "execution_count": 32,
   "metadata": {},
   "outputs": [],
   "source": [
    "nextfit = df[df[\"Algos\"].str.contains(r\"\\bNextFit\\b\")].copy()\n",
    "nextfit.loc[:, \"Algos\"] = nextfit[\"Algos\"].apply(lambda x: f\"Nextfit {x.split(',')[1].strip().strip(')')}\")\n",
    "\n",
    "firstfit = df[df[\"Algos\"].str.contains(r\"\\bFirstFit\\b\")].copy()\n",
    "firstfit.loc[:, \"Algos\"] = firstfit[\"Algos\"].apply(lambda x: f\"Firstfit {x.split(',')[1].strip().strip(')')}\")\n",
    "\n",
    "bestfit = df[df[\"Algos\"].str.contains(r\"\\bBestFit\\b\")].copy()\n",
    "bestfit.loc[:, \"Algos\"] = bestfit[\"Algos\"].apply(lambda x: f\"Bestfit {x.split(',')[1].strip().strip(')')}\")\n",
    "\n",
    "ffd = df[df[\"Algos\"].str.contains(r\"\\bFirstFitDec\\b\")].copy()\n",
    "ffd.loc[:, \"Algos\"] = ffd[\"Algos\"].apply(lambda x: f\"FirstfitDec {x.split(',')[1].strip().strip(')')}\")\n",
    "\n",
    "bfd = df[df[\"Algos\"].str.contains(r\"\\bBestFitDec\\b\")].copy()\n",
    "bfd.loc[:, \"Algos\"] = bfd[\"Algos\"].apply(lambda x: f\"BestfitDec {x.split(',')[1].strip().strip(')')}\")"
   ]
  },
  {
   "cell_type": "markdown",
   "metadata": {},
   "source": [
    "## NextFit"
   ]
  },
  {
   "cell_type": "code",
   "execution_count": 46,
   "metadata": {},
   "outputs": [
    {
     "data": {
      "text/html": [
       "<div>\n",
       "<style scoped>\n",
       "    .dataframe tbody tr th:only-of-type {\n",
       "        vertical-align: middle;\n",
       "    }\n",
       "\n",
       "    .dataframe tbody tr th {\n",
       "        vertical-align: top;\n",
       "    }\n",
       "\n",
       "    .dataframe thead th {\n",
       "        text-align: right;\n",
       "    }\n",
       "</style>\n",
       "<table border=\"1\" class=\"dataframe\">\n",
       "  <thead>\n",
       "    <tr style=\"text-align: right;\">\n",
       "      <th></th>\n",
       "      <th>Mean Waste</th>\n",
       "      <th>Mean Runtime</th>\n",
       "    </tr>\n",
       "    <tr>\n",
       "      <th>Data Size</th>\n",
       "      <th></th>\n",
       "      <th></th>\n",
       "    </tr>\n",
       "  </thead>\n",
       "  <tbody>\n",
       "    <tr>\n",
       "      <th>100</th>\n",
       "      <td>14.666667</td>\n",
       "      <td>0.000036</td>\n",
       "    </tr>\n",
       "    <tr>\n",
       "      <th>200</th>\n",
       "      <td>25.666667</td>\n",
       "      <td>0.000050</td>\n",
       "    </tr>\n",
       "    <tr>\n",
       "      <th>400</th>\n",
       "      <td>56.666667</td>\n",
       "      <td>0.000090</td>\n",
       "    </tr>\n",
       "    <tr>\n",
       "      <th>800</th>\n",
       "      <td>111.333333</td>\n",
       "      <td>0.000167</td>\n",
       "    </tr>\n",
       "    <tr>\n",
       "      <th>1600</th>\n",
       "      <td>233.000000</td>\n",
       "      <td>0.000372</td>\n",
       "    </tr>\n",
       "    <tr>\n",
       "      <th>3200</th>\n",
       "      <td>449.000000</td>\n",
       "      <td>0.000821</td>\n",
       "    </tr>\n",
       "    <tr>\n",
       "      <th>6400</th>\n",
       "      <td>916.000000</td>\n",
       "      <td>0.001570</td>\n",
       "    </tr>\n",
       "    <tr>\n",
       "      <th>12800</th>\n",
       "      <td>1841.000000</td>\n",
       "      <td>0.003451</td>\n",
       "    </tr>\n",
       "    <tr>\n",
       "      <th>25600</th>\n",
       "      <td>3702.333333</td>\n",
       "      <td>0.006454</td>\n",
       "    </tr>\n",
       "  </tbody>\n",
       "</table>\n",
       "</div>"
      ],
      "text/plain": [
       "            Mean Waste  Mean Runtime\n",
       "Data Size                           \n",
       "100          14.666667      0.000036\n",
       "200          25.666667      0.000050\n",
       "400          56.666667      0.000090\n",
       "800         111.333333      0.000167\n",
       "1600        233.000000      0.000372\n",
       "3200        449.000000      0.000821\n",
       "6400        916.000000      0.001570\n",
       "12800      1841.000000      0.003451\n",
       "25600      3702.333333      0.006454"
      ]
     },
     "execution_count": 46,
     "metadata": {},
     "output_type": "execute_result"
    }
   ],
   "source": [
    "mean_nextfit = nextfit.groupby([\"Data Size\"]).agg({\"Waste\":\"mean\", \"Runtime\": \"mean\"})\n",
    "mean_nextfit = mean_nextfit.rename(columns={\"Runtime\": \"Mean Runtime\",\"Waste\": \"Mean Waste\"})\n",
    "mean_nextfit"
   ]
  },
  {
   "cell_type": "markdown",
   "metadata": {},
   "source": [
    "## FirstFit"
   ]
  },
  {
   "cell_type": "code",
   "execution_count": null,
   "metadata": {},
   "outputs": [],
   "source": []
  },
  {
   "cell_type": "markdown",
   "metadata": {},
   "source": [
    "## BestFit"
   ]
  },
  {
   "cell_type": "code",
   "execution_count": null,
   "metadata": {},
   "outputs": [],
   "source": []
  },
  {
   "cell_type": "markdown",
   "metadata": {},
   "source": [
    "## FirstFit Decreasing"
   ]
  },
  {
   "cell_type": "code",
   "execution_count": null,
   "metadata": {},
   "outputs": [],
   "source": []
  },
  {
   "cell_type": "markdown",
   "metadata": {},
   "source": [
    "## BestFit Decreasing"
   ]
  },
  {
   "cell_type": "code",
   "execution_count": null,
   "metadata": {},
   "outputs": [],
   "source": []
  },
  {
   "cell_type": "markdown",
   "metadata": {},
   "source": [
    "## CustomFit1"
   ]
  },
  {
   "cell_type": "code",
   "execution_count": null,
   "metadata": {},
   "outputs": [],
   "source": []
  },
  {
   "cell_type": "markdown",
   "metadata": {},
   "source": [
    "## CustomFit2"
   ]
  },
  {
   "cell_type": "code",
   "execution_count": null,
   "metadata": {},
   "outputs": [],
   "source": []
  }
 ],
 "metadata": {
  "kernelspec": {
   "display_name": "Python 3",
   "language": "python",
   "name": "python3"
  },
  "language_info": {
   "codemirror_mode": {
    "name": "ipython",
    "version": 3
   },
   "file_extension": ".py",
   "mimetype": "text/x-python",
   "name": "python",
   "nbconvert_exporter": "python",
   "pygments_lexer": "ipython3",
   "version": "3.9.6"
  }
 },
 "nbformat": 4,
 "nbformat_minor": 2
}
